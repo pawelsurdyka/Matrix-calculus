{
 "cells": [
  {
   "cell_type": "code",
   "execution_count": 1,
   "id": "97b4f44e",
   "metadata": {},
   "outputs": [],
   "source": [
    "import numpy as np\n",
    "from scipy.linalg import norm, inv, svdvals"
   ]
  },
  {
   "cell_type": "code",
   "execution_count": 71,
   "id": "861fcc31",
   "metadata": {},
   "outputs": [],
   "source": [
    "# ∥M∥₁ – maksymalna suma wartości bezwzględnych w kolumnie\n",
    "def norm_1(M):\n",
    "    return max(sum(abs(M[i][j]) for i in range(len(M))) for j in range(len(M[0])))\n",
    "\n",
    "# ∥M∥∞ – maksymalna suma wartości bezwzględnych w wierszu\n",
    "def norm_inf(M):\n",
    "    return max(sum(abs(M[i][j]) for j in range(len(M[0]))) for i in range(len(M)))\n",
    "\n",
    "# ∥M∥₂ – największa (na moduł) wartość własna macierzy A \n",
    "def norm_2(M):\n",
    "    return max(abs(np.linalg.eigvals(M)))\n",
    "\n",
    "# ∥M∥ₚ -  Aproksymacja normy przez optymalizację\n",
    "def normalize_vector_p(x, p):\n",
    "    norm = np.sum(np.abs(x) ** p) ** (1 / p)\n",
    "    return x / norm\n",
    "\n",
    "def norm_p(M, p, samples=10000, seed=42):\n",
    "    np.random.seed(seed)\n",
    "    max_norm = 0\n",
    "    n = M.shape[1]\n",
    "\n",
    "    for _ in range(samples):\n",
    "        # Losowy wektor i normalizacja w normie p\n",
    "        x = np.random.randn(n)\n",
    "        x = normalize_vector_p(x, p)\n",
    "        Mx = M @ x\n",
    "        Mx_norm = np.sum(np.abs(Mx) ** p) ** (1 / p)\n",
    "        if Mx_norm > max_norm:\n",
    "            max_norm = Mx_norm\n",
    "\n",
    "    return max_norm"
   ]
  },
  {
   "cell_type": "code",
   "execution_count": 72,
   "id": "49bcc57e",
   "metadata": {},
   "outputs": [],
   "source": [
    "# Odwrotność macierzy\n",
    "def inverse(M):\n",
    "    return np.linalg.inv(M)"
   ]
  },
  {
   "cell_type": "code",
   "execution_count": 73,
   "id": "a497bc85",
   "metadata": {},
   "outputs": [],
   "source": [
    "# Współczynnik uwarunkowania dla danej normy\n",
    "def cond_1(M):\n",
    "    return norm_1(M) * norm_1(inverse(M))\n",
    "\n",
    "def cond_2(M):\n",
    "    return norm_2(M) * norm_2(inverse(M))\n",
    "\n",
    "def cond_inf(M):\n",
    "    return norm_inf(M) * norm_inf(inverse(M))\n",
    "\n",
    "def cond_p(M, p):\n",
    "    return norm_p(M, p) * norm_p(inverse(M), p)"
   ]
  },
  {
   "cell_type": "code",
   "execution_count": 74,
   "id": "6bd46244",
   "metadata": {},
   "outputs": [
    {
     "name": "stdout",
     "output_type": "stream",
     "text": [
      "Normy macierzowe:\n",
      "∥M∥₁ = 15\n",
      "∥M∥₂ = 15.000000000000002\n",
      "∥M∥ₚ (p=3) = 14.995541552860754\n",
      "∥M∥∞ = 15\n",
      "\n",
      "Współczynniki uwarunkowania:\n",
      "cond₁(M) = 5.333333333333333\n",
      "cond₂(M) = 3.0618621784789704\n",
      "condₚ(M) (p=3) = 4.502777545487174\n",
      "cond∞(M) = 5.333333333333333\n"
     ]
    }
   ],
   "source": [
    "M = np.array([[4, 9, 2],\n",
    "              [3, 5, 7],\n",
    "              [8, 1, 6]])\n",
    "\n",
    "print(\"Normy macierzowe:\")\n",
    "print(f\"∥M∥₁ = {norm_1(M)}\")\n",
    "print(f\"∥M∥₂ = {norm_2(M)}\")\n",
    "print(f\"∥M∥ₚ (p=3) = {norm_p(M, 3)}\")\n",
    "print(f\"∥M∥∞ = {norm_inf(M)}\")\n",
    "\n",
    "print(\"\\nWspółczynniki uwarunkowania:\")\n",
    "print(f\"cond₁(M) = {cond_1(M)}\")\n",
    "print(f\"cond₂(M) = {cond_2(M)}\")\n",
    "print(f\"condₚ(M) (p=3) = {cond_p(M, 3)}\")\n",
    "print(f\"cond∞(M) = {cond_inf(M)}\")"
   ]
  },
  {
   "cell_type": "code",
   "execution_count": 75,
   "id": "75750ccd",
   "metadata": {},
   "outputs": [
    {
     "name": "stdout",
     "output_type": "stream",
     "text": [
      "\n",
      "Normy macierzowe:\n",
      "∥M∥₁ = 15.0\n",
      "∥M∥₂ = 15.000000000000002\n",
      "∥M∥ₚ (p=3), ta wartość normy nie jest obsługiwna\n",
      "∥M∥∞ = 15.0\n",
      "\n",
      "Współczynniki uwarunkowania macierzowego:\n",
      "cond₁(M) = 5.333333333333333\n",
      "cond₂(M) = 4.330127018922192\n",
      "condₚ(M) (p=3) ), ta wartość normy nie jest obsługiwna\n",
      "cond∞(M) = 5.333333333333333\n"
     ]
    }
   ],
   "source": [
    "# Normy\n",
    "norm_1 = norm(M, 1)\n",
    "norm_2 = norm(M, 2)\n",
    "# norm_p = norm(M, 3)\n",
    "norm_inf = norm(M, np.inf)\n",
    "\n",
    "# Warunki uwarunkowania\n",
    "cond_1 = norm(M, 1) * norm(inv(M), 1)\n",
    "cond_2 = norm(M, 2) * norm(inv(M), 2)\n",
    "# cond_p = norm(M, 3) * norm(inv(M), 3)\n",
    "cond_inf = norm(M, np.inf) * norm(inv(M), np.inf)\n",
    "\n",
    "print(\"\\nNormy macierzowe:\")\n",
    "print(f\"∥M∥₁ = {norm_1}\")\n",
    "print(f\"∥M∥₂ = {norm_2}\")\n",
    "# print(f\"∥M∥ₚ (p={3}) = {norm_3}\")\n",
    "print(f\"∥M∥ₚ (p={3}), ta wartość normy nie jest obsługiwna\")\n",
    "print(f\"∥M∥∞ = {norm_inf}\")\n",
    "\n",
    "print(\"\\nWspółczynniki uwarunkowania macierzowego:\")\n",
    "print(f\"cond₁(M) = {cond_1}\")\n",
    "print(f\"cond₂(M) = {cond_2}\")\n",
    "# print(f\"condₚ(M) (p={3}) = {cond_3}\")\n",
    "print(f\"condₚ(M) (p={3}) ), ta wartość normy nie jest obsługiwna\")\n",
    "print(f\"cond∞(M) = {cond_inf}\")"
   ]
  },
  {
   "cell_type": "code",
   "execution_count": null,
   "id": "22085101",
   "metadata": {},
   "outputs": [],
   "source": []
  }
 ],
 "metadata": {
  "kernelspec": {
   "display_name": "Python 3 (ipykernel)",
   "language": "python",
   "name": "python3"
  },
  "language_info": {
   "codemirror_mode": {
    "name": "ipython",
    "version": 3
   },
   "file_extension": ".py",
   "mimetype": "text/x-python",
   "name": "python",
   "nbconvert_exporter": "python",
   "pygments_lexer": "ipython3",
   "version": "3.9.19"
  }
 },
 "nbformat": 4,
 "nbformat_minor": 5
}
